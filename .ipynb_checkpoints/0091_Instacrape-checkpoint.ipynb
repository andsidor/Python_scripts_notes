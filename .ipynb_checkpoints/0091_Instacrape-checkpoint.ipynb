{
 "cells": [
  {
   "cell_type": "code",
   "execution_count": 17,
   "id": "5d0fd9bd-db92-492b-9f59-2455070e61df",
   "metadata": {},
   "outputs": [
    {
     "name": "stdout",
     "output_type": "stream",
     "text": [
      "Requirement already satisfied: insta-scrape in /home/sidor/anaconda3/lib/python3.12/site-packages (2.1.2)\n",
      "Requirement already satisfied: beautifulsoup4 in /home/sidor/anaconda3/lib/python3.12/site-packages (from insta-scrape) (4.12.3)\n",
      "Requirement already satisfied: requests in /home/sidor/anaconda3/lib/python3.12/site-packages (from insta-scrape) (2.32.2)\n",
      "Requirement already satisfied: soupsieve>1.2 in /home/sidor/anaconda3/lib/python3.12/site-packages (from beautifulsoup4->insta-scrape) (2.5)\n",
      "Requirement already satisfied: charset-normalizer<4,>=2 in /home/sidor/anaconda3/lib/python3.12/site-packages (from requests->insta-scrape) (2.0.4)\n",
      "Requirement already satisfied: idna<4,>=2.5 in /home/sidor/anaconda3/lib/python3.12/site-packages (from requests->insta-scrape) (3.7)\n",
      "Requirement already satisfied: urllib3<3,>=1.21.1 in /home/sidor/anaconda3/lib/python3.12/site-packages (from requests->insta-scrape) (2.2.2)\n",
      "Requirement already satisfied: certifi>=2017.4.17 in /home/sidor/anaconda3/lib/python3.12/site-packages (from requests->insta-scrape) (2024.8.30)\n",
      "Note: you may need to restart the kernel to use updated packages.\n"
     ]
    }
   ],
   "source": [
    "pip install insta-scrape "
   ]
  },
  {
   "cell_type": "code",
   "execution_count": 19,
   "id": "da4828d2-1b0b-4ad4-9daa-e218c2755d72",
   "metadata": {},
   "outputs": [
    {
     "name": "stdout",
     "output_type": "stream",
     "text": [
      "Collecting instaloader\n",
      "  Using cached instaloader-4.13.1-py3-none-any.whl\n",
      "Requirement already satisfied: requests>=2.4 in /home/sidor/anaconda3/lib/python3.12/site-packages (from instaloader) (2.32.2)\n",
      "Requirement already satisfied: charset-normalizer<4,>=2 in /home/sidor/anaconda3/lib/python3.12/site-packages (from requests>=2.4->instaloader) (2.0.4)\n",
      "Requirement already satisfied: idna<4,>=2.5 in /home/sidor/anaconda3/lib/python3.12/site-packages (from requests>=2.4->instaloader) (3.7)\n",
      "Requirement already satisfied: urllib3<3,>=1.21.1 in /home/sidor/anaconda3/lib/python3.12/site-packages (from requests>=2.4->instaloader) (2.2.2)\n",
      "Requirement already satisfied: certifi>=2017.4.17 in /home/sidor/anaconda3/lib/python3.12/site-packages (from requests>=2.4->instaloader) (2024.8.30)\n",
      "Installing collected packages: instaloader\n",
      "Successfully installed instaloader-4.13.1\n",
      "Note: you may need to restart the kernel to use updated packages.\n"
     ]
    }
   ],
   "source": [
    "pip install instaloader "
   ]
  },
  {
   "cell_type": "code",
   "execution_count": 3,
   "id": "5860479d-453a-44e9-88c3-10c760f790f1",
   "metadata": {},
   "outputs": [
    {
     "name": "stdin",
     "output_type": "stream",
     "text": [
      "Enter Insta username :  malaami_92\n"
     ]
    },
    {
     "name": "stdout",
     "output_type": "stream",
     "text": [
      "malaami_92/2024-09-26_20-18-34_UTC_profile_pic.jpg already exists\n"
     ]
    },
    {
     "ename": "LoginRequiredException",
     "evalue": "profile malaami_92 requires login",
     "output_type": "error",
     "traceback": [
      "\u001b[0;31m---------------------------------------------------------------------------\u001b[0m",
      "\u001b[0;31mLoginRequiredException\u001b[0m                    Traceback (most recent call last)",
      "Cell \u001b[0;32mIn[3], line 6\u001b[0m\n\u001b[1;32m      3\u001b[0m ig \u001b[38;5;241m=\u001b[39m instaloader\u001b[38;5;241m.\u001b[39mInstaloader()\n\u001b[1;32m      4\u001b[0m dp \u001b[38;5;241m=\u001b[39m \u001b[38;5;28minput\u001b[39m(\u001b[38;5;124m\"\u001b[39m\u001b[38;5;124mEnter Insta username : \u001b[39m\u001b[38;5;124m\"\u001b[39m)\n\u001b[0;32m----> 6\u001b[0m ig\u001b[38;5;241m.\u001b[39mdownload_profile(dp)\n",
      "File \u001b[0;32m~/anaconda3/lib/python3.12/site-packages/instaloader/instaloader.py:1562\u001b[0m, in \u001b[0;36mInstaloader.download_profile\u001b[0;34m(self, profile_name, profile_pic, profile_pic_only, fast_update, download_stories, download_stories_only, download_tagged, download_tagged_only, post_filter, storyitem_filter)\u001b[0m\n\u001b[1;32m   1560\u001b[0m \u001b[38;5;28;01mif\u001b[39;00m profile\u001b[38;5;241m.\u001b[39mis_private:\n\u001b[1;32m   1561\u001b[0m     \u001b[38;5;28;01mif\u001b[39;00m \u001b[38;5;129;01mnot\u001b[39;00m \u001b[38;5;28mself\u001b[39m\u001b[38;5;241m.\u001b[39mcontext\u001b[38;5;241m.\u001b[39mis_logged_in:\n\u001b[0;32m-> 1562\u001b[0m         \u001b[38;5;28;01mraise\u001b[39;00m LoginRequiredException(\u001b[38;5;124m\"\u001b[39m\u001b[38;5;124mprofile \u001b[39m\u001b[38;5;132;01m%s\u001b[39;00m\u001b[38;5;124m requires login\u001b[39m\u001b[38;5;124m\"\u001b[39m \u001b[38;5;241m%\u001b[39m profile_name)\n\u001b[1;32m   1563\u001b[0m     \u001b[38;5;28;01mif\u001b[39;00m \u001b[38;5;129;01mnot\u001b[39;00m profile\u001b[38;5;241m.\u001b[39mfollowed_by_viewer \u001b[38;5;129;01mand\u001b[39;00m \\\n\u001b[1;32m   1564\u001b[0m             \u001b[38;5;28mself\u001b[39m\u001b[38;5;241m.\u001b[39mcontext\u001b[38;5;241m.\u001b[39musername \u001b[38;5;241m!=\u001b[39m profile\u001b[38;5;241m.\u001b[39musername:\n\u001b[1;32m   1565\u001b[0m         \u001b[38;5;28;01mraise\u001b[39;00m PrivateProfileNotFollowedException(\u001b[38;5;124m\"\u001b[39m\u001b[38;5;124mProfile \u001b[39m\u001b[38;5;132;01m%s\u001b[39;00m\u001b[38;5;124m: private but not followed.\u001b[39m\u001b[38;5;124m\"\u001b[39m \u001b[38;5;241m%\u001b[39m profile_name)\n",
      "\u001b[0;31mLoginRequiredException\u001b[0m: profile malaami_92 requires login"
     ]
    }
   ],
   "source": [
    "import instaloader\n",
    " \n",
    "ig = instaloader.Instaloader()\n",
    "dp = input(\"Enter Insta username : \")\n",
    " \n",
    "ig.download_profile(dp)"
   ]
  },
  {
   "cell_type": "code",
   "execution_count": null,
   "id": "7bef75b3-d2d4-43d5-b109-caab017f22f0",
   "metadata": {},
   "outputs": [],
   "source": []
  }
 ],
 "metadata": {
  "kernelspec": {
   "display_name": "Python 3 (ipykernel)",
   "language": "python",
   "name": "python3"
  },
  "language_info": {
   "codemirror_mode": {
    "name": "ipython",
    "version": 3
   },
   "file_extension": ".py",
   "mimetype": "text/x-python",
   "name": "python",
   "nbconvert_exporter": "python",
   "pygments_lexer": "ipython3",
   "version": "3.12.4"
  }
 },
 "nbformat": 4,
 "nbformat_minor": 5
}
