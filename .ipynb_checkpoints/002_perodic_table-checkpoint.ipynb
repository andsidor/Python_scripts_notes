{
 "cells": [
  {
   "cell_type": "code",
   "execution_count": 1,
   "id": "7bef75b3-d2d4-43d5-b109-caab017f22f0",
   "metadata": {},
   "outputs": [
    {
     "name": "stdout",
     "output_type": "stream",
     "text": [
      "Collecting periodictable\n",
      "  Downloading periodictable-1.7.1.tar.gz (1.0 MB)\n",
      "\u001b[2K     \u001b[38;2;114;156;31m━━━━━━━━━━━━━━━━━━━━━━━━━━━━━━━━━━━━━━━━\u001b[0m \u001b[32m1.0/1.0 MB\u001b[0m \u001b[31m4.3 MB/s\u001b[0m eta \u001b[36m0:00:00\u001b[0mm eta \u001b[36m0:00:01\u001b[0m0:01\u001b[0m:01\u001b[0m\n",
      "\u001b[?25h  Preparing metadata (setup.py) ... \u001b[?25ldone\n",
      "\u001b[?25hRequirement already satisfied: pyparsing in /home/sidor/anaconda3/lib/python3.12/site-packages (from periodictable) (3.0.9)\n",
      "Requirement already satisfied: numpy in /home/sidor/anaconda3/lib/python3.12/site-packages (from periodictable) (1.26.4)\n",
      "Building wheels for collected packages: periodictable\n",
      "  Building wheel for periodictable (setup.py) ... \u001b[?25ldone\n",
      "\u001b[?25h  Created wheel for periodictable: filename=periodictable-1.7.1-py3-none-any.whl size=752511 sha256=5682dc049698697ecddada8377e2a011b8ef0f01f81e4bcff6ad4c973b6216ad\n",
      "  Stored in directory: /home/sidor/.cache/pip/wheels/4f/94/e5/f8240ffdf54ce73b9e00aa7cd66bfee4814211b5a2b0f27213\n",
      "Successfully built periodictable\n",
      "Installing collected packages: periodictable\n",
      "Successfully installed periodictable-1.7.1\n",
      "Note: you may need to restart the kernel to use updated packages.\n"
     ]
    }
   ],
   "source": [
    "pip install periodictable"
   ]
  },
  {
   "cell_type": "code",
   "execution_count": null,
   "id": "ab3d9ee5-5f86-4875-b0b5-6818084b08c8",
   "metadata": {},
   "outputs": [],
   "source": []
  },
  {
   "cell_type": "code",
   "execution_count": 26,
   "id": "db01dcff-03fb-4f9d-9cb6-7c4b471be744",
   "metadata": {},
   "outputs": [
    {
     "name": "stdin",
     "output_type": "stream",
     "text": [
      "Enter the element name:  mn\n"
     ]
    },
    {
     "name": "stdout",
     "output_type": "stream",
     "text": [
      "Element: manganese\n",
      "Element: manganese\n",
      "Symbol: Mn\n",
      "Atomic Number: 25\n",
      "Atomic Weight: 54.938049\n",
      "Density: 7.33\n"
     ]
    }
   ],
   "source": [
    "import periodictable\n",
    "\n",
    "element_name = input(\"Enter the element name: \").capitalize()\n",
    "atom = getattr(periodictable,element_name, None)\n",
    "\n",
    "\n",
    "if atom :\n",
    "         print(f\"Element: {atom.name}\")\n",
    "\n",
    "\n",
    "         print(f\"Element: {atom.name}\")\n",
    "         print(f\"Symbol: {atom.symbol}\")\n",
    "         print(f\"Atomic Number: {atom.number}\")\n",
    "         print(f\"Atomic Weight: {atom.mass}\")\n",
    "         print(f\"Density: {atom.density}\")\n",
    "\n",
    "else: \n",
    "    print( f\"Element '{atom.name}' 'not found.k\")"
   ]
  },
  {
   "cell_type": "code",
   "execution_count": null,
   "id": "1f833e35-4d4e-43d3-acbc-6d1b991a8675",
   "metadata": {},
   "outputs": [],
   "source": []
  },
  {
   "cell_type": "code",
   "execution_count": null,
   "id": "2f82125e-9e79-49a5-bd54-6f8e31e985fb",
   "metadata": {},
   "outputs": [],
   "source": []
  }
 ],
 "metadata": {
  "kernelspec": {
   "display_name": "Python 3 (ipykernel)",
   "language": "python",
   "name": "python3"
  },
  "language_info": {
   "codemirror_mode": {
    "name": "ipython",
    "version": 3
   },
   "file_extension": ".py",
   "mimetype": "text/x-python",
   "name": "python",
   "nbconvert_exporter": "python",
   "pygments_lexer": "ipython3",
   "version": "3.12.4"
  }
 },
 "nbformat": 4,
 "nbformat_minor": 5
}
