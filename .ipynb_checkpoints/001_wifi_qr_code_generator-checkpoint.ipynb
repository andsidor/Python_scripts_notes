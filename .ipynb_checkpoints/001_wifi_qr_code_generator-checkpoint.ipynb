{
 "cells": [
  {
   "cell_type": "code",
   "execution_count": 1,
   "id": "7bef75b3-d2d4-43d5-b109-caab017f22f0",
   "metadata": {},
   "outputs": [
    {
     "name": "stdout",
     "output_type": "stream",
     "text": [
      "Requirement already satisfied: wifi-qrcode-generator in /home/sidor/anaconda3/lib/python3.12/site-packages (1.0.1)\n",
      "Requirement already satisfied: qrcode[pil] in /home/sidor/anaconda3/lib/python3.12/site-packages (from wifi-qrcode-generator) (8.0)\n",
      "Requirement already satisfied: pillow>=9.1.0 in /home/sidor/anaconda3/lib/python3.12/site-packages (from qrcode[pil]->wifi-qrcode-generator) (10.3.0)\n",
      "Note: you may need to restart the kernel to use updated packages.\n"
     ]
    }
   ],
   "source": [
    "pip install wifi-qrcode-generator\n"
   ]
  },
  {
   "cell_type": "code",
   "execution_count": null,
   "id": "ab3d9ee5-5f86-4875-b0b5-6818084b08c8",
   "metadata": {},
   "outputs": [],
   "source": []
  },
  {
   "cell_type": "code",
   "execution_count": 2,
   "id": "db01dcff-03fb-4f9d-9cb6-7c4b471be744",
   "metadata": {},
   "outputs": [],
   "source": [
    "from wifi_qrcode_generator import wifi_qrcode\n",
    "\n",
    "\n",
    "qr_code = wifi_qrcode(\"sidor\", hidden=False, authentication_type=\"WPA\", password=\"Andrzej1234\")\n",
    "\n",
    "qr_code_img = qr_code.make_image()\n",
    "qr_code_img.save(\"001_wifi_qr.png\")"
   ]
  },
  {
   "cell_type": "code",
   "execution_count": null,
   "id": "1f833e35-4d4e-43d3-acbc-6d1b991a8675",
   "metadata": {},
   "outputs": [],
   "source": []
  }
 ],
 "metadata": {
  "kernelspec": {
   "display_name": "Python 3 (ipykernel)",
   "language": "python",
   "name": "python3"
  },
  "language_info": {
   "codemirror_mode": {
    "name": "ipython",
    "version": 3
   },
   "file_extension": ".py",
   "mimetype": "text/x-python",
   "name": "python",
   "nbconvert_exporter": "python",
   "pygments_lexer": "ipython3",
   "version": "3.12.4"
  }
 },
 "nbformat": 4,
 "nbformat_minor": 5
}
